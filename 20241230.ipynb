{
 "cells": [
  {
   "cell_type": "code",
   "execution_count": 21,
   "metadata": {},
   "outputs": [],
   "source": [
    "with open(\"dataset/human.txt\", \"w\") as file:\n",
    "    # print(file.read())\n",
    "    file.write('안녕하세요 반갑습니다. 홍길동입니다.\\n')\n",
    "    file.write('파이썬 with문 예시입니다.\\n')"
   ]
  },
  {
   "cell_type": "code",
   "execution_count": 22,
   "metadata": {},
   "outputs": [
    {
     "name": "stdout",
     "output_type": "stream",
     "text": [
      "안녕하세요 반갑습니다. 홍길동입니다.\n",
      "파이썬 with문 예시입니다.\n",
      "\n"
     ]
    }
   ],
   "source": [
    "with open(\"dataset/human.txt\", \"r\") as file:\n",
    "    print(file.read())"
   ]
  },
  {
   "cell_type": "code",
   "execution_count": 26,
   "metadata": {},
   "outputs": [],
   "source": [
    "class Dog:\n",
    "    def __init__(self, name):\n",
    "        self.name = name\n",
    "    \n",
    "    def bark(self):\n",
    "        print(f\"{self.name}가 짖습니다.\")"
   ]
  },
  {
   "cell_type": "code",
   "execution_count": 27,
   "metadata": {},
   "outputs": [
    {
     "name": "stdout",
     "output_type": "stream",
     "text": [
      "멍멍이가 짖습니다.\n"
     ]
    }
   ],
   "source": [
    "mydog = Dog(\"멍멍이\")\n",
    "mydog.bark()"
   ]
  },
  {
   "cell_type": "code",
   "execution_count": 29,
   "metadata": {},
   "outputs": [],
   "source": [
    "class Animal:\n",
    "    def __init__(self, name):\n",
    "        self.name = name\n",
    "        \n",
    "    def speak(self):\n",
    "        pass"
   ]
  },
  {
   "cell_type": "code",
   "execution_count": 34,
   "metadata": {},
   "outputs": [],
   "source": [
    "class Cat(Animal):\n",
    "    def speak(self):\n",
    "        return print(f\"{self.name}가 야옹하고 웁니다.\")"
   ]
  },
  {
   "cell_type": "code",
   "execution_count": 36,
   "metadata": {},
   "outputs": [
    {
     "name": "stdout",
     "output_type": "stream",
     "text": [
      "나비가 야옹하고 웁니다.\n"
     ]
    }
   ],
   "source": [
    "cat1 = Cat(\"나비\")\n",
    "cat1.speak()"
   ]
  },
  {
   "cell_type": "code",
   "execution_count": 38,
   "metadata": {},
   "outputs": [
    {
     "name": "stdout",
     "output_type": "stream",
     "text": [
      "미야가 야옹하고 웁니다.\n"
     ]
    }
   ],
   "source": [
    "cat2 = Cat(\"미야\")\n",
    "cat2.speak()"
   ]
  },
  {
   "cell_type": "code",
   "execution_count": 39,
   "metadata": {},
   "outputs": [],
   "source": [
    "class BankAccount:\n",
    "    def __init__(self):\n",
    "        self.__balance = 0\n",
    "        \n",
    "    def deposit(self, amount):\n",
    "        if(amount > 0):\n",
    "            self.__balance += amount\n",
    "            \n",
    "    def get_balance(self):\n",
    "        return self.__balance"
   ]
  },
  {
   "cell_type": "code",
   "execution_count": 41,
   "metadata": {},
   "outputs": [
    {
     "name": "stdout",
     "output_type": "stream",
     "text": [
      "1000\n"
     ]
    }
   ],
   "source": [
    "account = BankAccount()\n",
    "account.deposit(1000)\n",
    "print(account.get_balance())"
   ]
  },
  {
   "cell_type": "code",
   "execution_count": 42,
   "metadata": {},
   "outputs": [],
   "source": [
    "class Student:\n",
    "    school_name = '파이썬 고등학교'\n",
    "    student_count = 0\n",
    "    \n",
    "    def __init__(self, name):\n",
    "        self.name = name\n",
    "        Student.student_count += 1"
   ]
  },
  {
   "cell_type": "code",
   "execution_count": 44,
   "metadata": {},
   "outputs": [],
   "source": [
    "student1 = Student('김철희')\n",
    "student2 = Student('이영희')"
   ]
  },
  {
   "cell_type": "code",
   "execution_count": 47,
   "metadata": {},
   "outputs": [
    {
     "name": "stdout",
     "output_type": "stream",
     "text": [
      "파이썬 고등학교\n",
      "4\n",
      "파이썬 고등학교\n",
      "파이썬 고등학교\n"
     ]
    }
   ],
   "source": [
    "print(Student.school_name)\n",
    "print(Student.student_count)\n",
    "print(student1.school_name)\n",
    "print(student2.school_name)"
   ]
  },
  {
   "cell_type": "code",
   "execution_count": 50,
   "metadata": {},
   "outputs": [
    {
     "name": "stdout",
     "output_type": "stream",
     "text": [
      "계산기를 초기화합니다.\n",
      "덧셈 결과: 30\n",
      "곱셈 결과: 200\n"
     ]
    }
   ],
   "source": [
    "# 계산기 클래스 예제\n",
    "class Calculator:\n",
    "# 초기화 메서드: 아무 상태 없이 계산만 수행\n",
    "    def __init__(self):\n",
    "        print('계산기를 초기화합니다.')\n",
    "# 두 숫자를 더하는 메서드\n",
    "    def add(self, a, b):\n",
    "        return a + b\n",
    "# 두 숫자를 곱하는 메서드\n",
    "    def multiply(self, a, b):\n",
    "        return a * b\n",
    "# 객체 생성 및 메서드 호출\n",
    "calc = Calculator() # 출력 : 계산기를 초기화합니다.\n",
    "print('덧셈 결과:', calc.add(10, 20)) # 출력 : 덧셈결과 : 30\n",
    "print('곱셈 결과:', calc.multiply(10, 20)) # 출력: 곱셈 결과 : 200"
   ]
  },
  {
   "cell_type": "code",
   "execution_count": 52,
   "metadata": {},
   "outputs": [],
   "source": [
    "class Student:\n",
    "    def __init__(self, name, age):\n",
    "        self.name = name\n",
    "        self.age = age\n",
    "        \n",
    "    def display(self):\n",
    "        print(f\"{self.name}의 나이는 {self.age}\")"
   ]
  },
  {
   "cell_type": "code",
   "execution_count": 53,
   "metadata": {},
   "outputs": [],
   "source": [
    "student1 = Student('홍길동', 20)\n",
    "student2 = Student('김철수', 16)"
   ]
  },
  {
   "cell_type": "code",
   "execution_count": 54,
   "metadata": {},
   "outputs": [
    {
     "name": "stdout",
     "output_type": "stream",
     "text": [
      "홍길동의 나이는 20\n",
      "김철수의 나이는 16\n"
     ]
    }
   ],
   "source": [
    "student1.display()\n",
    "student2.display()"
   ]
  },
  {
   "cell_type": "code",
   "execution_count": 55,
   "metadata": {},
   "outputs": [],
   "source": [
    "class MovieTicket:\n",
    "    def __init__(self, title, price):\n",
    "        self.title = title\n",
    "        self.price = price\n",
    "    \n",
    "    def apply_discount(self, discount):\n",
    "        self.price -= discount\n",
    "        print(f\"{self.title} 영화의 할인된 가격 : {self.price} 원\")"
   ]
  },
  {
   "cell_type": "code",
   "execution_count": 56,
   "metadata": {},
   "outputs": [
    {
     "name": "stdout",
     "output_type": "stream",
     "text": [
      "어벤져스 영화의 할인된 가격 : 10000 원\n"
     ]
    }
   ],
   "source": [
    "ticket = MovieTicket(\"어벤져스\",12000)\n",
    "ticket.apply_discount(2000)"
   ]
  },
  {
   "cell_type": "code",
   "execution_count": 66,
   "metadata": {},
   "outputs": [],
   "source": [
    "# 은행 계좌 클래스\n",
    "class BanckAccount:\n",
    "    # 초기화\n",
    "    def __init__(self, owner, balance=0):\n",
    "        self.owner = owner\n",
    "        self.balance = balance\n",
    "        \n",
    "    # 현재 잔고 확인\n",
    "    def viewAccount(self):\n",
    "        print(f\"현재 잔액 : {self.balance}\")\n",
    "        \n",
    "    # 입금\n",
    "    def deposit(self, amount):\n",
    "        # 입금하고자 하는 금액이 0보다 크다면 입금하기\n",
    "        if(amount > 0):\n",
    "            self.balance += amount\n",
    "            # 입금한 내역 출력\n",
    "            print(f\"{self.owner} 님께서 계좌에 {amount} 원을 입금하셨습니다.\")\n",
    "            print(f\"현재 잔액 : {self.balance}\")\n",
    "            \n",
    "    # 출금\n",
    "    def withdraw(self, amount):\n",
    "        # 출금하고자 하는 금액이 계좌에 잔고보다 크다면 인출 실패\n",
    "        if(amount > self.balance):\n",
    "            print(f\"잔액이 부족합니다. 인출 가능한 금액 : {self.balance}\")\n",
    "        else:\n",
    "            self.balance -= amount\n",
    "            print(f\"{self.owner} 님께서 계좌에 {amount} 원을 출금하셨습니다.\")\n",
    "            print(f\"현재 잔액 : {self.balance}\")"
   ]
  },
  {
   "cell_type": "code",
   "execution_count": 67,
   "metadata": {},
   "outputs": [],
   "source": [
    "account1 = BanckAccount(\"홍길동\",10000)"
   ]
  },
  {
   "cell_type": "code",
   "execution_count": 68,
   "metadata": {},
   "outputs": [
    {
     "name": "stdout",
     "output_type": "stream",
     "text": [
      "현재 잔액 : 10000\n"
     ]
    }
   ],
   "source": [
    "account1.viewAccount()"
   ]
  },
  {
   "cell_type": "code",
   "execution_count": 69,
   "metadata": {},
   "outputs": [
    {
     "name": "stdout",
     "output_type": "stream",
     "text": [
      "홍길동 님께서 계좌에 20000 원을 입금하셨습니다.\n",
      "현재 잔액 : 30000\n"
     ]
    }
   ],
   "source": [
    "account1.deposit(20000)"
   ]
  },
  {
   "cell_type": "code",
   "execution_count": 70,
   "metadata": {},
   "outputs": [
    {
     "name": "stdout",
     "output_type": "stream",
     "text": [
      "잔액이 부족합니다. 인출 가능한 금액 : 30000\n"
     ]
    }
   ],
   "source": [
    "account1.withdraw(50000)"
   ]
  },
  {
   "cell_type": "code",
   "execution_count": 71,
   "metadata": {},
   "outputs": [
    {
     "name": "stdout",
     "output_type": "stream",
     "text": [
      "홍길동 님께서 계좌에 20000 원을 출금하셨습니다.\n",
      "현재 잔액 : 10000\n"
     ]
    }
   ],
   "source": [
    "account1.withdraw(20000)"
   ]
  },
  {
   "cell_type": "code",
   "execution_count": 72,
   "metadata": {},
   "outputs": [
    {
     "name": "stdout",
     "output_type": "stream",
     "text": [
      "현재 잔액 : 10000\n"
     ]
    }
   ],
   "source": [
    "account1.viewAccount()"
   ]
  },
  {
   "cell_type": "code",
   "execution_count": null,
   "metadata": {},
   "outputs": [],
   "source": []
  }
 ],
 "metadata": {
  "kernelspec": {
   "display_name": ".venv",
   "language": "python",
   "name": "python3"
  },
  "language_info": {
   "codemirror_mode": {
    "name": "ipython",
    "version": 3
   },
   "file_extension": ".py",
   "mimetype": "text/x-python",
   "name": "python",
   "nbconvert_exporter": "python",
   "pygments_lexer": "ipython3",
   "version": "3.12.8"
  }
 },
 "nbformat": 4,
 "nbformat_minor": 2
}
