{
 "cells": [
  {
   "cell_type": "code",
   "execution_count": 4,
   "metadata": {},
   "outputs": [],
   "source": [
    "def greet(name='홍길동'):\n",
    "    print(f\"안녕하세요, {name} 님!\")"
   ]
  },
  {
   "cell_type": "code",
   "execution_count": 5,
   "metadata": {},
   "outputs": [
    {
     "name": "stdout",
     "output_type": "stream",
     "text": [
      "안녕하세요, 홍길동님 !\n"
     ]
    }
   ],
   "source": [
    "greet()"
   ]
  },
  {
   "cell_type": "code",
   "execution_count": 7,
   "metadata": {},
   "outputs": [
    {
     "name": "stdout",
     "output_type": "stream",
     "text": [
      "안녕하세요, 정지용 !\n"
     ]
    }
   ],
   "source": [
    "greet('정지용')"
   ]
  },
  {
   "cell_type": "code",
   "execution_count": 9,
   "metadata": {},
   "outputs": [],
   "source": [
    "def multiply(*args):\n",
    "    result = 1\n",
    "    for num in args:\n",
    "        result *= num\n",
    "    return result"
   ]
  },
  {
   "cell_type": "code",
   "execution_count": 14,
   "metadata": {},
   "outputs": [
    {
     "data": {
      "text/plain": [
       "120"
      ]
     },
     "execution_count": 14,
     "metadata": {},
     "output_type": "execute_result"
    }
   ],
   "source": [
    "multiply(4,5,6)"
   ]
  },
  {
   "cell_type": "code",
   "execution_count": 16,
   "metadata": {},
   "outputs": [],
   "source": [
    "def check_number(num):\n",
    "    if num > 0:\n",
    "        return \"양수입니다.\"\n",
    "    elif  num < 0:\n",
    "        return \"음수입니다.\"\n",
    "    else:\n",
    "        return \"0입니다.\""
   ]
  },
  {
   "cell_type": "code",
   "execution_count": 19,
   "metadata": {},
   "outputs": [],
   "source": [
    "def isEven(num):\n",
    "    if num % 2 == 0:\n",
    "        return '짝수입니다.'\n",
    "    else:\n",
    "        return '홀수입니다.'"
   ]
  },
  {
   "cell_type": "code",
   "execution_count": 25,
   "metadata": {},
   "outputs": [
    {
     "name": "stdout",
     "output_type": "stream",
     "text": [
      "10은 양수입니다. 그리고 짝수입니다.\n"
     ]
    }
   ],
   "source": [
    "num = 10\n",
    "print(f\"{num}은 {check_number(num)} 그리고 {isEven(num)}\")"
   ]
  },
  {
   "cell_type": "code",
   "execution_count": 1,
   "metadata": {},
   "outputs": [],
   "source": [
    "def login(username, password):\n",
    "    if(username == \"admin\"):\n",
    "        if(password == \"1234\"):\n",
    "            print(\"login success !\")\n",
    "        else:\n",
    "            print(\"password incorrect !\")\n",
    "    else:\n",
    "        print(\"username incorrect !\")"
   ]
  },
  {
   "cell_type": "code",
   "execution_count": 3,
   "metadata": {},
   "outputs": [
    {
     "name": "stdout",
     "output_type": "stream",
     "text": [
      "username incorrect !\n"
     ]
    }
   ],
   "source": [
    "username = input('아이디를 입력해주세요.')\n",
    "password = input('비밀번호를 입력해주세요.')\n",
    "login(username, password)"
   ]
  },
  {
   "cell_type": "code",
   "execution_count": 6,
   "metadata": {},
   "outputs": [
    {
     "name": "stdout",
     "output_type": "stream",
     "text": [
      "[2, 4, 6, 8, 10]\n"
     ]
    }
   ],
   "source": [
    "def get_even_numbers(start, end):\n",
    "    even_nums = []\n",
    "    for num in range(start, end+1):\n",
    "        if num % 2 == 0:\n",
    "            even_nums.append(num)\n",
    "    return even_nums\n",
    "\n",
    "print(get_even_numbers(1,10))"
   ]
  },
  {
   "cell_type": "code",
   "execution_count": 32,
   "metadata": {},
   "outputs": [
    {
     "name": "stdout",
     "output_type": "stream",
     "text": [
      "28\n"
     ]
    }
   ],
   "source": [
    "import numpy as np\n",
    "rdint = np.random.randint(100)\n",
    "print(rdint)"
   ]
  },
  {
   "cell_type": "code",
   "execution_count": 36,
   "metadata": {},
   "outputs": [],
   "source": [
    "def up_down():\n",
    "    random = np.random.randint(100)\n",
    "    count = 0\n",
    "    guessNum = None\n",
    "    while guessNum != random:\n",
    "        guessNum = int(input('숫자를 입력하세요'))\n",
    "        count += 1\n",
    "        if(guessNum > random):\n",
    "            print('Down ↓')\n",
    "        elif(guessNum < random):\n",
    "            print('Up ↑')\n",
    "        else:\n",
    "            print(f\"success number = {random} count = {count}\")"
   ]
  },
  {
   "cell_type": "code",
   "execution_count": 37,
   "metadata": {},
   "outputs": [
    {
     "name": "stdout",
     "output_type": "stream",
     "text": [
      "Down ↓\n",
      "Down ↓\n",
      "Up ↑\n",
      "Up ↑\n",
      "Up ↑\n",
      "Down ↓\n",
      "success number = 36 count = 7\n"
     ]
    }
   ],
   "source": [
    "up_down()"
   ]
  },
  {
   "cell_type": "code",
   "execution_count": 38,
   "metadata": {},
   "outputs": [],
   "source": [
    "def normalize(numbers):\n",
    "    min_value = min(numbers)\n",
    "    max_value = max(numbers)\n",
    "    normalize_num = None\n",
    "    normalize_list = []\n",
    "    for num in numbers:\n",
    "        normalize_num = (num - min_value) / (max_value - min_value)\n",
    "        normalize_list.append(normalize_num)\n",
    "    return normalize_list"
   ]
  },
  {
   "cell_type": "code",
   "execution_count": 39,
   "metadata": {},
   "outputs": [
    {
     "data": {
      "text/plain": [
       "[0.0, 0.25, 0.5, 0.75, 1.0]"
      ]
     },
     "execution_count": 39,
     "metadata": {},
     "output_type": "execute_result"
    }
   ],
   "source": [
    "data = [10,20,30,40,50]\n",
    "normalize(data)"
   ]
  },
  {
   "cell_type": "code",
   "execution_count": 40,
   "metadata": {},
   "outputs": [],
   "source": [
    "def split_data(data, train_ratio = 0.8):\n",
    "    split_index = int(len(data) * train_ratio)\n",
    "    train_data = data[:split_index]\n",
    "    test_data = data[split_index:]\n",
    "    return train_data, test_data\n"
   ]
  },
  {
   "cell_type": "code",
   "execution_count": 44,
   "metadata": {},
   "outputs": [
    {
     "name": "stdout",
     "output_type": "stream",
     "text": [
      "[1, 2, 3, 4, 5, 6, 7, 8]\n",
      "[9, 10]\n"
     ]
    }
   ],
   "source": [
    "full_data = [1,2,3,4,5,6,7,8,9,10]\n",
    "train, test = split_data(full_data)\n",
    "print(train)\n",
    "print(test)"
   ]
  },
  {
   "cell_type": "markdown",
   "metadata": {},
   "source": [
    "# lambda 함수 "
   ]
  },
  {
   "cell_type": "code",
   "execution_count": 46,
   "metadata": {},
   "outputs": [
    {
     "data": {
      "text/plain": [
       "6"
      ]
     },
     "execution_count": 46,
     "metadata": {},
     "output_type": "execute_result"
    }
   ],
   "source": [
    "multiply = lambda x, y : x*y\n",
    "multiply(2,3)"
   ]
  },
  {
   "cell_type": "markdown",
   "metadata": {},
   "source": [
    "### lambda 함수 내에 조건식 사용\n"
   ]
  },
  {
   "cell_type": "code",
   "execution_count": 47,
   "metadata": {},
   "outputs": [
    {
     "data": {
      "text/plain": [
       "2"
      ]
     },
     "execution_count": 47,
     "metadata": {},
     "output_type": "execute_result"
    }
   ],
   "source": [
    "add = lambda x,y : x+y\n",
    "sub = lambda x,y : x-y if x>y else y-x"
   ]
  },
  {
   "cell_type": "code",
   "execution_count": 49,
   "metadata": {},
   "outputs": [
    {
     "name": "stdout",
     "output_type": "stream",
     "text": [
      "짝수\n"
     ]
    }
   ],
   "source": [
    "check_even = lambda x: '짝수' if x % 2 == 0 else '홀수'\n",
    "print(check_even(10))"
   ]
  },
  {
   "cell_type": "code",
   "execution_count": 1,
   "metadata": {},
   "outputs": [
    {
     "data": {
      "text/plain": [
       "1.1"
      ]
     },
     "execution_count": 1,
     "metadata": {},
     "output_type": "execute_result"
    }
   ],
   "source": [
    "round(1.05, 1)"
   ]
  },
  {
   "cell_type": "code",
   "execution_count": 2,
   "metadata": {},
   "outputs": [
    {
     "name": "stdout",
     "output_type": "stream",
     "text": [
      "8\n"
     ]
    }
   ],
   "source": [
    "powpow = pow(2,3)\n",
    "print(powpow)"
   ]
  },
  {
   "cell_type": "code",
   "execution_count": 10,
   "metadata": {},
   "outputs": [
    {
     "data": {
      "text/plain": [
       "[9, 6, 5, 4, 3, 2, 1]"
      ]
     },
     "execution_count": 10,
     "metadata": {},
     "output_type": "execute_result"
    }
   ],
   "source": [
    "a = [1,4,2,5,6,3,9]\n",
    "sorted(a, reverse=True)\n"
   ]
  },
  {
   "cell_type": "code",
   "execution_count": 30,
   "metadata": {},
   "outputs": [
    {
     "name": "stdout",
     "output_type": "stream",
     "text": [
      "<class 'int'>\n",
      "10\n",
      "3.14\n",
      "123\n",
      "False\n",
      "True\n",
      "True\n",
      "len = 3\n",
      "sum = 6\n",
      "max = 3\n",
      "min = 1\n",
      "sorted = [1, 2, 3]\n",
      "reversed = [3, 2, 1]\n"
     ]
    }
   ],
   "source": [
    "print(type(123))\n",
    "print(int(\"10\"))\n",
    "print(float(\"3.14\"))\n",
    "print(str(123))\n",
    "print(bool(0))\n",
    "print(bool(1))\n",
    "print(isinstance(123,int))\n",
    "print(f\"len = {len([1,2,3])}\")\n",
    "print(f\"sum = {sum([1,2,3])}\")\n",
    "print(f\"max = {max([1,2,3])}\")\n",
    "print(f\"min = {min([1,2,3])}\")\n",
    "print(f\"sorted = {sorted([3,1,2])}\")\n",
    "print(f\"reversed = {list(reversed([1,2,3]))}\")"
   ]
  },
  {
   "cell_type": "code",
   "execution_count": 34,
   "metadata": {},
   "outputs": [
    {
     "name": "stdout",
     "output_type": "stream",
     "text": [
      "6\n",
      "3.1\n",
      "8\n"
     ]
    }
   ],
   "source": [
    "print(abs(-6))\n",
    "print(round(3.14, 1))\n",
    "print(pow(2,3))"
   ]
  },
  {
   "cell_type": "code",
   "execution_count": 41,
   "metadata": {},
   "outputs": [
    {
     "data": {
      "text/plain": [
       "['1', '2', '3']"
      ]
     },
     "execution_count": 41,
     "metadata": {},
     "output_type": "execute_result"
    }
   ],
   "source": [
    "list(map(str,[1,2,3]))"
   ]
  },
  {
   "cell_type": "code",
   "execution_count": 40,
   "metadata": {},
   "outputs": [
    {
     "data": {
      "text/plain": [
       "[3]"
      ]
     },
     "execution_count": 40,
     "metadata": {},
     "output_type": "execute_result"
    }
   ],
   "source": [
    "list(filter(lambda x: x>2, [1,2,3]))"
   ]
  },
  {
   "cell_type": "code",
   "execution_count": 42,
   "metadata": {},
   "outputs": [
    {
     "data": {
      "text/plain": [
       "[(1, 'a'), (2, 'b')]"
      ]
     },
     "execution_count": 42,
     "metadata": {},
     "output_type": "execute_result"
    }
   ],
   "source": [
    "list(zip([1,2],['a','b']))"
   ]
  },
  {
   "cell_type": "code",
   "execution_count": 43,
   "metadata": {},
   "outputs": [
    {
     "data": {
      "text/plain": [
       "[(0, 'a'), (1, 'b')]"
      ]
     },
     "execution_count": 43,
     "metadata": {},
     "output_type": "execute_result"
    }
   ],
   "source": [
    "list(enumerate(['a','b']))"
   ]
  },
  {
   "cell_type": "code",
   "execution_count": 63,
   "metadata": {},
   "outputs": [],
   "source": [
    "fruits = ['apple','banana']"
   ]
  },
  {
   "cell_type": "code",
   "execution_count": 64,
   "metadata": {},
   "outputs": [],
   "source": [
    "fruit = ['cherry','mandaline']"
   ]
  },
  {
   "cell_type": "code",
   "execution_count": 97,
   "metadata": {},
   "outputs": [
    {
     "name": "stdout",
     "output_type": "stream",
     "text": [
      "['apple', 'banana', 'cherry', 'mandaline', ['cherry', 'mandaline']]\n"
     ]
    }
   ],
   "source": [
    "fruits.append(fruit)\n",
    "print(fruits)"
   ]
  },
  {
   "cell_type": "code",
   "execution_count": 66,
   "metadata": {},
   "outputs": [
    {
     "name": "stdout",
     "output_type": "stream",
     "text": [
      "cherry\n",
      "mandaline\n"
     ]
    }
   ],
   "source": [
    "print(fruits[2][0])\n",
    "print(fruits[2][1])"
   ]
  },
  {
   "cell_type": "code",
   "execution_count": 67,
   "metadata": {},
   "outputs": [],
   "source": [
    "fruits.extend(fruit)"
   ]
  },
  {
   "cell_type": "code",
   "execution_count": 74,
   "metadata": {},
   "outputs": [
    {
     "name": "stdout",
     "output_type": "stream",
     "text": [
      "['apple', ['cherry', 'mandaline'], 'banana', ['cherry', 'mandaline'], 'cherry', 'mandaline']\n"
     ]
    }
   ],
   "source": [
    "print(fruits)"
   ]
  },
  {
   "cell_type": "code",
   "execution_count": 71,
   "metadata": {},
   "outputs": [],
   "source": [
    "fruits.insert(1,fruit)"
   ]
  },
  {
   "cell_type": "code",
   "execution_count": 99,
   "metadata": {},
   "outputs": [
    {
     "name": "stdout",
     "output_type": "stream",
     "text": [
      "['apple', 'banana', 'cherry', 'mandaline', ['cherry', 'mandaline']]\n"
     ]
    }
   ],
   "source": [
    "print(fruits)"
   ]
  },
  {
   "cell_type": "code",
   "execution_count": 100,
   "metadata": {},
   "outputs": [],
   "source": [
    "fruits.remove(fruit)\n",
    "print(fruits)"
   ]
  },
  {
   "cell_type": "code",
   "execution_count": 108,
   "metadata": {},
   "outputs": [
    {
     "name": "stdout",
     "output_type": "stream",
     "text": [
      "apple / banana / cherry / mandaline\n"
     ]
    }
   ],
   "source": [
    "print(\" / \".join(fruits))"
   ]
  },
  {
   "cell_type": "code",
   "execution_count": 123,
   "metadata": {},
   "outputs": [
    {
     "name": "stdout",
     "output_type": "stream",
     "text": [
      "apple / banana / cherry / mandaline\n",
      "APPLE / BANANA / CHERRY / MANDALINE\n",
      "apple / banana / cherry / mandaline\n",
      "Apple / Banana / Cherry / Mandaline\n",
      "Apple / banana / cherry / mandaline\n",
      "8\n",
      "True\n",
      "True\n",
      "False\n"
     ]
    }
   ],
   "source": [
    "print(\" / \".join(fruits).lower())\n",
    "print(\" / \".join(fruits).upper())\n",
    "print(\" / \".join(fruits).strip())\n",
    "print(\" / \".join(fruits).title())\n",
    "print(\" / \".join(fruits).capitalize())\n",
    "print(\" / \".join(fruits).find(\"banana\"))\n",
    "print(\" / \".join(fruits).startswith(\"apple\"))\n",
    "print(\" / \".join(fruits).endswith(\"mandaline\"))\n",
    "print(\"/\".join(fruits).isnumeric())"
   ]
  },
  {
   "cell_type": "code",
   "execution_count": 135,
   "metadata": {},
   "outputs": [
    {
     "name": "stdout",
     "output_type": "stream",
     "text": [
      "[33, 7, 5]\n",
      "[4, 10, 12, 20]\n"
     ]
    }
   ],
   "source": [
    "numbers = [12, 7, 5, 20, 33, 10, 4]\n",
    "even_numbers = []\n",
    "odd_numbers = []\n",
    "# 홀수 짝수 분리\n",
    "for i in numbers:\n",
    "  if(i % 2 == 0):\n",
    "    even_numbers.append(i)\n",
    "  else:\n",
    "    odd_numbers.append(i)\n",
    "# 홀수 내림차순 정렬\n",
    "print(sorted(odd_numbers, reverse=True))\n",
    "\n",
    "# 짝수 오름차순 정렬\n",
    "print(sorted(even_numbers))"
   ]
  }
 ],
 "metadata": {
  "kernelspec": {
   "display_name": ".venv",
   "language": "python",
   "name": "python3"
  },
  "language_info": {
   "codemirror_mode": {
    "name": "ipython",
    "version": 3
   },
   "file_extension": ".py",
   "mimetype": "text/x-python",
   "name": "python",
   "nbconvert_exporter": "python",
   "pygments_lexer": "ipython3",
   "version": "3.12.8"
  }
 },
 "nbformat": 4,
 "nbformat_minor": 2
}
