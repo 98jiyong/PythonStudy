{
 "cells": [
  {
   "cell_type": "code",
   "execution_count": null,
   "metadata": {},
   "outputs": [],
   "source": [
    "'''\n",
    "계산할 수식을 입력\n",
    "수식을 입력하면 사칙연산의 순서에 따라서 처리\n",
    "우선 순위 \n",
    "괄호 >> 곱하기 == 나누기 >> 더하기 == 빼기 \n",
    "'''"
   ]
  },
  {
   "cell_type": "code",
   "execution_count": 7,
   "metadata": {},
   "outputs": [
    {
     "name": "stdout",
     "output_type": "stream",
     "text": [
      "50*3 = 150 입니다.\n"
     ]
    }
   ],
   "source": [
    "num = input('계산할 수식을 입력해주세요.')\n",
    "try:\n",
    "    result = eval(num)\n",
    "    print(f\"{num} = {result} 입니다.\")\n",
    "except Exception as e:\n",
    "    print('올바른 식이 아닙니다.')"
   ]
  },
  {
   "cell_type": "markdown",
   "metadata": {},
   "source": []
  }
 ],
 "metadata": {
  "kernelspec": {
   "display_name": ".venv",
   "language": "python",
   "name": "python3"
  },
  "language_info": {
   "codemirror_mode": {
    "name": "ipython",
    "version": 3
   },
   "file_extension": ".py",
   "mimetype": "text/x-python",
   "name": "python",
   "nbconvert_exporter": "python",
   "pygments_lexer": "ipython3",
   "version": "3.12.8"
  }
 },
 "nbformat": 4,
 "nbformat_minor": 2
}
