{
 "cells": [
  {
   "cell_type": "code",
   "execution_count": 26,
   "metadata": {},
   "outputs": [],
   "source": [
    "import tkinter as tk"
   ]
  },
  {
   "cell_type": "code",
   "execution_count": 152,
   "metadata": {},
   "outputs": [
    {
     "data": {
      "text/plain": [
       "''"
      ]
     },
     "execution_count": 152,
     "metadata": {},
     "output_type": "execute_result"
    }
   ],
   "source": [
    "window = tk.Tk()\n",
    "window.title(\"Calculator Machine\")\n",
    "window.geometry(\"400x400+300+300\")\n",
    "window.resizable(False,False)"
   ]
  },
  {
   "cell_type": "code",
   "execution_count": 153,
   "metadata": {},
   "outputs": [],
   "source": [
    "button0 = tk.Button(window,text='0', width=10, height=5)\n",
    "button1 = tk.Button(window,text='1', width=10, height=5, command=print1)\n",
    "button2 = tk.Button(window,text='2', width=10, height=5)\n",
    "button3 = tk.Button(window,text='3', width=10, height=5)\n",
    "button4 = tk.Button(window,text='4', width=10, height=5)\n",
    "button5 = tk.Button(window,text='5', width=10, height=5)\n",
    "button6 = tk.Button(window,text='6', width=10, height=5)\n",
    "button7 = tk.Button(window,text='7', width=10, height=5)\n",
    "button8 = tk.Button(window,text='8', width=10, height=5)\n",
    "button9 = tk.Button(window,text='9', width=10, height=5)\n",
    "button_sub = tk.Button(window, text='-', width=10, height=5)\n",
    "button_add = tk.Button(window, text='+', width=10, height=5)\n",
    "button_div = tk.Button(window, text='/', width=10, height=5)\n",
    "button_mul = tk.Button(window, text='*', width=10, height=5)\n",
    "button_eq = tk.Button(window, text='=', width=10, height=5)\n",
    "button_dot = tk.Button(window, text='.', width=10, height=5)\n",
    "label_input = tk.Label(window, text= '값을 입력하세요', width=30)\n",
    "button_clear = tk.Button(window, text='clear', width=10)\n",
    "label_result = tk.Label(window,text= '값을 입력하세요',width=40)\n"
   ]
  },
  {
   "cell_type": "code",
   "execution_count": 154,
   "metadata": {},
   "outputs": [],
   "source": [
    "button0.grid(row=4, column=1)\n",
    "button1.grid(row=3, column=1)\n",
    "button2.grid(row=3, column=2)\n",
    "button3.grid(row=3, column=3)\n",
    "button4.grid(row=2, column=1)\n",
    "button5.grid(row=2, column=2)\n",
    "button6.grid(row=2, column=3)\n",
    "button7.grid(row=1, column=1)\n",
    "button8.grid(row=1, column=2)\n",
    "button9.grid(row=1, column=3)\n",
    "button_dot.grid(row=4, column=2)\n",
    "button_eq.grid(row=4, column=3)\n",
    "button_add.grid(row=4, column=4)\n",
    "button_sub.grid(row=3, column=4)\n",
    "button_mul.grid(row=2, column=4)\n",
    "button_div.grid(row=1, column=4)\n",
    "label_input.grid(row=5, columnspan=3, column=1)\n",
    "button_clear.grid(row=5, column=4)\n",
    "label_result.grid(row=6, columnspan=4)"
   ]
  },
  {
   "cell_type": "code",
   "execution_count": 155,
   "metadata": {},
   "outputs": [],
   "source": [
    "window.mainloop()"
   ]
  },
  {
   "cell_type": "code",
   "execution_count": 156,
   "metadata": {},
   "outputs": [
    {
     "ename": "SyntaxError",
     "evalue": "invalid syntax (1619018480.py, line 2)",
     "output_type": "error",
     "traceback": [
      "\u001b[1;36m  Cell \u001b[1;32mIn[156], line 2\u001b[1;36m\u001b[0m\n\u001b[1;33m    label_input.config(text+=str(1))\u001b[0m\n\u001b[1;37m                           ^\u001b[0m\n\u001b[1;31mSyntaxError\u001b[0m\u001b[1;31m:\u001b[0m invalid syntax\n"
     ]
    }
   ],
   "source": [
    "def print1():\n",
    "    label_input.config(text=str(1))"
   ]
  },
  {
   "cell_type": "code",
   "execution_count": null,
   "metadata": {},
   "outputs": [],
   "source": []
  },
  {
   "cell_type": "code",
   "execution_count": null,
   "metadata": {},
   "outputs": [],
   "source": []
  }
 ],
 "metadata": {
  "kernelspec": {
   "display_name": ".venv",
   "language": "python",
   "name": "python3"
  },
  "language_info": {
   "codemirror_mode": {
    "name": "ipython",
    "version": 3
   },
   "file_extension": ".py",
   "mimetype": "text/x-python",
   "name": "python",
   "nbconvert_exporter": "python",
   "pygments_lexer": "ipython3",
   "version": "3.12.8"
  }
 },
 "nbformat": 4,
 "nbformat_minor": 2
}
